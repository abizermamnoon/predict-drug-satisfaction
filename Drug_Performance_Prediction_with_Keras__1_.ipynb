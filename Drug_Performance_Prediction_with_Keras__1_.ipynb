{
 "cells": [
  {
   "cell_type": "code",
   "execution_count": 52,
   "id": "ad3b0939",
   "metadata": {},
   "outputs": [],
   "source": [
    "import numpy as np\n",
    "import pandas as pd\n",
    "import keras\n",
    "from keras.models import Sequential\n",
    "from keras.layers import Dense\n",
    "from keras.utils import to_categorical\n",
    "from keras.layers import Dropout\n",
    "import matplotlib as plt\n",
    "from sklearn.model_selection import train_test_split "
   ]
  },
  {
   "cell_type": "code",
   "execution_count": 4,
   "id": "852f9777",
   "metadata": {},
   "outputs": [
    {
     "name": "stderr",
     "output_type": "stream",
     "text": [
      "[nltk_data] Downloading package brown to\n",
      "[nltk_data]     C:\\Users\\abize\\AppData\\Roaming\\nltk_data...\n",
      "[nltk_data]   Package brown is already up-to-date!\n",
      "[nltk_data] Downloading package punkt to\n",
      "[nltk_data]     C:\\Users\\abize\\AppData\\Roaming\\nltk_data...\n",
      "[nltk_data]   Package punkt is already up-to-date!\n"
     ]
    },
    {
     "data": {
      "text/plain": [
       "True"
      ]
     },
     "execution_count": 4,
     "metadata": {},
     "output_type": "execute_result"
    }
   ],
   "source": [
    "from textblob import TextBlob\n",
    "import nltk\n",
    "nltk.download('brown')\n",
    "nltk.download('punkt')"
   ]
  },
  {
   "cell_type": "code",
   "execution_count": 5,
   "id": "e82fdaa4",
   "metadata": {},
   "outputs": [
    {
     "data": {
      "text/html": [
       "<div>\n",
       "<style scoped>\n",
       "    .dataframe tbody tr th:only-of-type {\n",
       "        vertical-align: middle;\n",
       "    }\n",
       "\n",
       "    .dataframe tbody tr th {\n",
       "        vertical-align: top;\n",
       "    }\n",
       "\n",
       "    .dataframe thead th {\n",
       "        text-align: right;\n",
       "    }\n",
       "</style>\n",
       "<table border=\"1\" class=\"dataframe\">\n",
       "  <thead>\n",
       "    <tr style=\"text-align: right;\">\n",
       "      <th></th>\n",
       "      <th>Condition</th>\n",
       "      <th>Drug</th>\n",
       "      <th>Indication</th>\n",
       "      <th>Type</th>\n",
       "      <th>Reviews</th>\n",
       "      <th>Effective</th>\n",
       "      <th>EaseOfUse</th>\n",
       "      <th>Satisfaction</th>\n",
       "      <th>Information</th>\n",
       "    </tr>\n",
       "  </thead>\n",
       "  <tbody>\n",
       "    <tr>\n",
       "      <th>0</th>\n",
       "      <td>Acute Bacterial Sinusitis</td>\n",
       "      <td>Levofloxacin</td>\n",
       "      <td>On Label</td>\n",
       "      <td>RX</td>\n",
       "      <td>994 Reviews</td>\n",
       "      <td>2.52</td>\n",
       "      <td>3.01</td>\n",
       "      <td>1.84</td>\n",
       "      <td>\\r\\n\\t\\t\\t\\t\\tLevofloxacin is used to treat a ...</td>\n",
       "    </tr>\n",
       "    <tr>\n",
       "      <th>1</th>\n",
       "      <td>Acute Bacterial Sinusitis</td>\n",
       "      <td>Levofloxacin</td>\n",
       "      <td>On Label</td>\n",
       "      <td>RX</td>\n",
       "      <td>994 Reviews</td>\n",
       "      <td>2.52</td>\n",
       "      <td>3.01</td>\n",
       "      <td>1.84</td>\n",
       "      <td>\\r\\n\\t\\t\\t\\t\\tLevofloxacin is used to treat a ...</td>\n",
       "    </tr>\n",
       "    <tr>\n",
       "      <th>2</th>\n",
       "      <td>Acute Bacterial Sinusitis</td>\n",
       "      <td>Moxifloxacin</td>\n",
       "      <td>On Label</td>\n",
       "      <td>RX</td>\n",
       "      <td>755 Reviews</td>\n",
       "      <td>2.78</td>\n",
       "      <td>3.00</td>\n",
       "      <td>2.08</td>\n",
       "      <td>\\r\\n\\t\\t\\t\\t\\t This is a generic drug. The ave...</td>\n",
       "    </tr>\n",
       "    <tr>\n",
       "      <th>3</th>\n",
       "      <td>Acute Bacterial Sinusitis</td>\n",
       "      <td>Azithromycin</td>\n",
       "      <td>On Label</td>\n",
       "      <td>RX</td>\n",
       "      <td>584 Reviews</td>\n",
       "      <td>3.21</td>\n",
       "      <td>4.01</td>\n",
       "      <td>2.57</td>\n",
       "      <td>\\r\\n\\t\\t\\t\\t\\tAzithromycin is an antibiotic (m...</td>\n",
       "    </tr>\n",
       "    <tr>\n",
       "      <th>4</th>\n",
       "      <td>Acute Bacterial Sinusitis</td>\n",
       "      <td>Azithromycin</td>\n",
       "      <td>On Label</td>\n",
       "      <td>RX</td>\n",
       "      <td>584 Reviews</td>\n",
       "      <td>3.21</td>\n",
       "      <td>4.01</td>\n",
       "      <td>2.57</td>\n",
       "      <td>\\r\\n\\t\\t\\t\\t\\tAzithromycin is an antibiotic (m...</td>\n",
       "    </tr>\n",
       "  </tbody>\n",
       "</table>\n",
       "</div>"
      ],
      "text/plain": [
       "                   Condition          Drug Indication Type      Reviews  \\\n",
       "0  Acute Bacterial Sinusitis  Levofloxacin   On Label   RX  994 Reviews   \n",
       "1  Acute Bacterial Sinusitis  Levofloxacin   On Label   RX  994 Reviews   \n",
       "2  Acute Bacterial Sinusitis  Moxifloxacin   On Label   RX  755 Reviews   \n",
       "3  Acute Bacterial Sinusitis  Azithromycin   On Label   RX  584 Reviews   \n",
       "4  Acute Bacterial Sinusitis  Azithromycin   On Label   RX  584 Reviews   \n",
       "\n",
       "   Effective  EaseOfUse  Satisfaction  \\\n",
       "0       2.52       3.01          1.84   \n",
       "1       2.52       3.01          1.84   \n",
       "2       2.78       3.00          2.08   \n",
       "3       3.21       4.01          2.57   \n",
       "4       3.21       4.01          2.57   \n",
       "\n",
       "                                         Information  \n",
       "0  \\r\\n\\t\\t\\t\\t\\tLevofloxacin is used to treat a ...  \n",
       "1  \\r\\n\\t\\t\\t\\t\\tLevofloxacin is used to treat a ...  \n",
       "2  \\r\\n\\t\\t\\t\\t\\t This is a generic drug. The ave...  \n",
       "3  \\r\\n\\t\\t\\t\\t\\tAzithromycin is an antibiotic (m...  \n",
       "4  \\r\\n\\t\\t\\t\\t\\tAzithromycin is an antibiotic (m...  "
      ]
     },
     "execution_count": 5,
     "metadata": {},
     "output_type": "execute_result"
    }
   ],
   "source": [
    "drug = pd.read_csv('Drug.csv')\n",
    "drug.head()"
   ]
  },
  {
   "cell_type": "code",
   "execution_count": 6,
   "id": "d8071eea",
   "metadata": {},
   "outputs": [
    {
     "data": {
      "text/plain": [
       "(2219, 9)"
      ]
     },
     "execution_count": 6,
     "metadata": {},
     "output_type": "execute_result"
    }
   ],
   "source": [
    "drug.shape"
   ]
  },
  {
   "cell_type": "code",
   "execution_count": 7,
   "id": "bbe396f0",
   "metadata": {},
   "outputs": [
    {
     "name": "stdout",
     "output_type": "stream",
     "text": [
      "['levofloxacin', 'bacterial infections', 'generic drug', 'average cash price', 'tablet', 'webmdrx', 'medicare', 'webmdrx', 'cash price']\n"
     ]
    },
    {
     "data": {
      "text/plain": [
       "array(['Acute Bacterial Sinusitis', 'adenocarcinoma of pancreas',\n",
       "       'Atopic Dermatitis', 'back pain', 'Bacterial Conjunctivitis',\n",
       "       'Bacterial Urinary Tract Infection', 'biliary calculus',\n",
       "       'chickenpox', 'colorectal cancer', 'depression',\n",
       "       'diverticulitis of gastrointestinal tract', 'edema',\n",
       "       'endometriosis', 'fever', 'fibromyalgia', 'flatulence',\n",
       "       'furunculosis', 'gastroesophageal reflux disease',\n",
       "       'genital herpes simplex', 'gout', 'hemorrhoids', 'herpes zoster',\n",
       "       'hypercholesterolemia', 'hypertension', 'impetigo',\n",
       "       'Infantile Autism', 'Influenza', \"meniere's disease\",\n",
       "       'oral candidiasis', 'Pharyngitis due to Streptococcus Pyogenes',\n",
       "       'prevention of cerebrovascular accident', 'pyelonephritis',\n",
       "       'scabies', 'Sleepiness Due To Obstructive Sleep Apnea',\n",
       "       'sore throat', 'vertigo', 'vulvovaginal candidiasis'], dtype=object)"
      ]
     },
     "execution_count": 7,
     "metadata": {},
     "output_type": "execute_result"
    }
   ],
   "source": [
    "# How many different drugs are there? Can I encode them into varaibles?\n",
    "drug.Drug.nunique()\n",
    "\n",
    "# There are too many drugs to encode\n",
    "\n",
    "# Can I get useful info to use as variables from information\n",
    "blob = TextBlob(drug['Information'][0])\n",
    "print(blob.noun_phrases)\n",
    "\n",
    "# what are different types of conditions?\n",
    "drug.Condition.unique()"
   ]
  },
  {
   "cell_type": "code",
   "execution_count": 8,
   "id": "90a22a79",
   "metadata": {},
   "outputs": [],
   "source": [
    "#define values\n",
    "values = ['RX/OTC','\\r\\n']\n",
    "#drop rows that contain any value in the list\n",
    "drug = drug[drug.Type.isin(values) == False]\n",
    "# define values\n",
    "values = ['\\r\\n']\n",
    "drug = drug[drug.Indication.isin(values) == False]"
   ]
  },
  {
   "cell_type": "code",
   "execution_count": 9,
   "id": "c138a45d",
   "metadata": {},
   "outputs": [
    {
     "data": {
      "text/plain": [
       "On Label     1658\n",
       "Off Label     451\n",
       "Name: Indication, dtype: int64"
      ]
     },
     "execution_count": 9,
     "metadata": {},
     "output_type": "execute_result"
    }
   ],
   "source": [
    "drug[\"Type\"].value_counts()\n",
    "drug['Indication'].value_counts()"
   ]
  },
  {
   "cell_type": "code",
   "execution_count": 10,
   "id": "0a8e131e",
   "metadata": {},
   "outputs": [
    {
     "data": {
      "text/plain": [
       "0    1389\n",
       "1     720\n",
       "Name: Type, dtype: int64"
      ]
     },
     "execution_count": 10,
     "metadata": {},
     "output_type": "execute_result"
    }
   ],
   "source": [
    "# Convert Type to binary\n",
    "df_one = pd.get_dummies(drug[\"Type\"])\n",
    "df_two = pd.concat((df_one, drug), axis=1)\n",
    "df_two = df_two.drop([\"Type\"], axis=1)\n",
    "df_two = df_two.drop([\"RX\"], axis=1)\n",
    "drug = df_two.rename(columns={\"OTC\": \"Type\"})\n",
    "drug[\"Type\"].value_counts() # 1 is OTC and 0 is RX\n",
    "\n"
   ]
  },
  {
   "cell_type": "code",
   "execution_count": 11,
   "id": "4242dcee",
   "metadata": {},
   "outputs": [
    {
     "data": {
      "text/plain": [
       "1    1658\n",
       "0     451\n",
       "Name: Indication, dtype: int64"
      ]
     },
     "execution_count": 11,
     "metadata": {},
     "output_type": "execute_result"
    }
   ],
   "source": [
    "# Convert Indication to Binary\n",
    "df_one = pd.get_dummies(drug[\"Indication\"])\n",
    "df_two = pd.concat((df_one, drug), axis=1)\n",
    "df_two = df_two.drop([\"Indication\"], axis=1)\n",
    "df_two = df_two.drop([\"Off Label\"], axis=1)\n",
    "drug = df_two.rename(columns={\"On Label\": \"Indication\"}) # 1 is On Label and 0 is Off Label\n",
    "drug[\"Indication\"].value_counts()"
   ]
  },
  {
   "cell_type": "code",
   "execution_count": 12,
   "id": "4c1835b8",
   "metadata": {},
   "outputs": [
    {
     "data": {
      "text/plain": [
       "array(['bacterial', 'cancer', 'chronic', 'biliary calculus', 'virus',\n",
       "       'depression', 'edema', 'endometriosis', 'poor_lifestyle',\n",
       "       'high_cholestrol', 'high_bp', 'disability', 'fungus', 'scabies'],\n",
       "      dtype=object)"
      ]
     },
     "execution_count": 12,
     "metadata": {},
     "output_type": "execute_result"
    }
   ],
   "source": [
    "drug2 = drug.replace(['Acute Bacterial Sinusitis', 'Bacterial Conjunctivitis', 'Bacterial Urinary Tract Infection', 'furunculosis', 'impetigo','Pharyngitis due to Streptococcus Pyogenes','pyelonephritis'],\"bacterial\")\n",
    "drug3 = drug2.replace(['Atopic Dermatitis', 'fibromyalgia', 'gout', 'hemorrhoids',\"meniere's disease\",'vertigo','back pain','diverticulitis of gastrointestinal tract'],\"chronic\")\n",
    "drug4 = drug3.replace(['adenocarcinoma of pancreas', 'colorectal cancer'],\"cancer\")\n",
    "drug5 = drug4.replace(['chickenpox', 'genital herpes simplex', 'herpes zoster','Influenza','fever','sore throat'],\"virus\")\n",
    "drug6 = drug5.replace(['hypercholesterolemia'],'high_cholestrol')\n",
    "drug7 = drug6.replace(['hypertension','prevention of cerebrovascular accident'],'high_bp')\n",
    "drug8 = drug7.replace(['Infantile Autism'],'disability')\n",
    "drug9 = drug8.replace(['oral candidiasis','vulvovaginal candidiasis'],'fungus')\n",
    "drug10 = drug9.replace(['flatulence','gastroesophageal reflux disease','Sleepiness Due To Obstructive Sleep Apnea'],'poor_lifestyle')\n",
    "drug10.Condition.unique()"
   ]
  },
  {
   "cell_type": "code",
   "execution_count": 13,
   "id": "927745b5",
   "metadata": {},
   "outputs": [
    {
     "data": {
      "text/plain": [
       "14"
      ]
     },
     "execution_count": 13,
     "metadata": {},
     "output_type": "execute_result"
    }
   ],
   "source": [
    "# How many conditions do we have?\n",
    "drug10.Condition.nunique()"
   ]
  },
  {
   "cell_type": "code",
   "execution_count": 14,
   "id": "953e309e",
   "metadata": {},
   "outputs": [],
   "source": [
    "drug10 = drug10.replace(to_replace ='Reviews', value = '', regex = True)"
   ]
  },
  {
   "cell_type": "code",
   "execution_count": 15,
   "id": "12c46d7e",
   "metadata": {},
   "outputs": [
    {
     "data": {
      "text/plain": [
       "Indication      0\n",
       "Type            0\n",
       "Condition       0\n",
       "Drug            0\n",
       "Reviews         0\n",
       "Effective       0\n",
       "EaseOfUse       0\n",
       "Satisfaction    0\n",
       "Information     0\n",
       "dtype: int64"
      ]
     },
     "execution_count": 15,
     "metadata": {},
     "output_type": "execute_result"
    }
   ],
   "source": [
    "drug10.isnull().sum()"
   ]
  },
  {
   "cell_type": "code",
   "execution_count": 16,
   "id": "37a40bcb",
   "metadata": {},
   "outputs": [],
   "source": [
    "drug10.drop('Information', inplace=True, axis=1)"
   ]
  },
  {
   "cell_type": "code",
   "execution_count": 17,
   "id": "91cb7a2e",
   "metadata": {},
   "outputs": [],
   "source": [
    "drug10.drop('Drug',inplace=True, axis=1)"
   ]
  },
  {
   "cell_type": "code",
   "execution_count": 18,
   "id": "1158002a",
   "metadata": {},
   "outputs": [],
   "source": [
    "drug_columns = drug10.columns"
   ]
  },
  {
   "cell_type": "code",
   "execution_count": 19,
   "id": "9439b66c",
   "metadata": {},
   "outputs": [],
   "source": [
    "predictors = drug10[drug_columns[drug_columns != 'Satisfaction']]# all columns except Satisfaction\n",
    "target = drug10['Satisfaction'] # Satisfaction column"
   ]
  },
  {
   "cell_type": "code",
   "execution_count": 20,
   "id": "c2d1243b",
   "metadata": {},
   "outputs": [
    {
     "name": "stderr",
     "output_type": "stream",
     "text": [
      "C:\\Users\\abize\\opencv\\lib\\site-packages\\pandas\\core\\frame.py:5047: SettingWithCopyWarning: \n",
      "A value is trying to be set on a copy of a slice from a DataFrame\n",
      "\n",
      "See the caveats in the documentation: https://pandas.pydata.org/pandas-docs/stable/user_guide/indexing.html#returning-a-view-versus-a-copy\n",
      "  errors=errors,\n"
     ]
    }
   ],
   "source": [
    "predictors.rename(\n",
    "    columns={\"Indication\": \"on_label\", \"Type\": \"OTC\"},\n",
    "    inplace=True,\n",
    ")"
   ]
  },
  {
   "cell_type": "code",
   "execution_count": 21,
   "id": "3b35a4bb",
   "metadata": {},
   "outputs": [
    {
     "data": {
      "text/html": [
       "<div>\n",
       "<style scoped>\n",
       "    .dataframe tbody tr th:only-of-type {\n",
       "        vertical-align: middle;\n",
       "    }\n",
       "\n",
       "    .dataframe tbody tr th {\n",
       "        vertical-align: top;\n",
       "    }\n",
       "\n",
       "    .dataframe thead th {\n",
       "        text-align: right;\n",
       "    }\n",
       "</style>\n",
       "<table border=\"1\" class=\"dataframe\">\n",
       "  <thead>\n",
       "    <tr style=\"text-align: right;\">\n",
       "      <th></th>\n",
       "      <th>on_label</th>\n",
       "      <th>OTC</th>\n",
       "      <th>Condition</th>\n",
       "      <th>Reviews</th>\n",
       "      <th>Effective</th>\n",
       "      <th>EaseOfUse</th>\n",
       "    </tr>\n",
       "  </thead>\n",
       "  <tbody>\n",
       "    <tr>\n",
       "      <th>0</th>\n",
       "      <td>1</td>\n",
       "      <td>0</td>\n",
       "      <td>bacterial</td>\n",
       "      <td>994</td>\n",
       "      <td>2.52</td>\n",
       "      <td>3.01</td>\n",
       "    </tr>\n",
       "    <tr>\n",
       "      <th>1</th>\n",
       "      <td>1</td>\n",
       "      <td>0</td>\n",
       "      <td>bacterial</td>\n",
       "      <td>994</td>\n",
       "      <td>2.52</td>\n",
       "      <td>3.01</td>\n",
       "    </tr>\n",
       "    <tr>\n",
       "      <th>2</th>\n",
       "      <td>1</td>\n",
       "      <td>0</td>\n",
       "      <td>bacterial</td>\n",
       "      <td>755</td>\n",
       "      <td>2.78</td>\n",
       "      <td>3.00</td>\n",
       "    </tr>\n",
       "    <tr>\n",
       "      <th>3</th>\n",
       "      <td>1</td>\n",
       "      <td>0</td>\n",
       "      <td>bacterial</td>\n",
       "      <td>584</td>\n",
       "      <td>3.21</td>\n",
       "      <td>4.01</td>\n",
       "    </tr>\n",
       "    <tr>\n",
       "      <th>4</th>\n",
       "      <td>1</td>\n",
       "      <td>0</td>\n",
       "      <td>bacterial</td>\n",
       "      <td>584</td>\n",
       "      <td>3.21</td>\n",
       "      <td>4.01</td>\n",
       "    </tr>\n",
       "  </tbody>\n",
       "</table>\n",
       "</div>"
      ],
      "text/plain": [
       "   on_label  OTC  Condition Reviews  Effective  EaseOfUse\n",
       "0         1    0  bacterial    994        2.52       3.01\n",
       "1         1    0  bacterial    994        2.52       3.01\n",
       "2         1    0  bacterial    755        2.78       3.00\n",
       "3         1    0  bacterial    584        3.21       4.01\n",
       "4         1    0  bacterial    584        3.21       4.01"
      ]
     },
     "execution_count": 21,
     "metadata": {},
     "output_type": "execute_result"
    }
   ],
   "source": [
    "predictors.head()"
   ]
  },
  {
   "cell_type": "code",
   "execution_count": 22,
   "id": "e9b0af60",
   "metadata": {},
   "outputs": [
    {
     "data": {
      "text/plain": [
       "array([[0., 1., 0., 0., 0.],\n",
       "       [0., 1., 0., 0., 0.],\n",
       "       [0., 1., 0., 0., 0.],\n",
       "       ...,\n",
       "       [0., 0., 0., 0., 1.],\n",
       "       [0., 0., 0., 0., 1.],\n",
       "       [1., 0., 0., 0., 0.]], dtype=float32)"
      ]
     },
     "execution_count": 22,
     "metadata": {},
     "output_type": "execute_result"
    }
   ],
   "source": [
    "target = target.round(0)\n",
    "target.describe()\n",
    "\n",
    "encoding = {1: 0,\n",
    "            2: 1,\n",
    "            3: 2,\n",
    "            4: 3,\n",
    "            5: 4\n",
    "           }\n",
    "labels = ['1', '2', '3', '4', '5']\n",
    "           \n",
    "y = target.copy()\n",
    "y.replace(encoding, inplace=True)\n",
    "y = to_categorical(y,5)\n",
    "y"
   ]
  },
  {
   "cell_type": "code",
   "execution_count": 23,
   "id": "428a59a5",
   "metadata": {},
   "outputs": [
    {
     "data": {
      "text/plain": [
       "2109"
      ]
     },
     "execution_count": 23,
     "metadata": {},
     "output_type": "execute_result"
    }
   ],
   "source": [
    "# Continue from here: https://machinelearningmastery.com/how-to-prepare-categorical-data-for-deep-learning-in-python/\n",
    "# Use One hot encode That will convert condition into binary by splitting into columns\n",
    "\n",
    "# perform one-hot encoding\n",
    "one_hot_df = pd.get_dummies(predictors['Condition'])\n",
    "\n",
    "# merge the two dataframes\n",
    "merged_df = pd.concat([predictors, one_hot_df], axis=1)\n",
    "\n",
    "\n",
    "\n",
    "merged_df = merged_df.drop('Condition',axis=1)\n",
    "\n",
    "merged_df.isnull().shape[0]"
   ]
  },
  {
   "cell_type": "code",
   "execution_count": 24,
   "id": "602af0e7",
   "metadata": {},
   "outputs": [],
   "source": [
    "merged_df = np.asarray(merged_df).astype(np.float32)\n"
   ]
  },
  {
   "cell_type": "code",
   "execution_count": 37,
   "id": "9a90a837",
   "metadata": {},
   "outputs": [],
   "source": [
    "X_train, X_test, y_train, y_test = train_test_split(merged_df, y, stratify=y, random_state=42,test_size=0.1)\n",
    "#validation split will done when fitting the model"
   ]
  },
  {
   "cell_type": "code",
   "execution_count": 64,
   "id": "09e336f5",
   "metadata": {},
   "outputs": [],
   "source": [
    "# define regression model\n",
    "def regression_model():\n",
    "    # create model\n",
    "    model = Sequential()\n",
    "    model.add(Dense(6, activation='relu', input_shape=(n_cols,)))\n",
    "    model.add(Dropout(0.25))\n",
    "    model.add(Dense(6, activation='relu'))\n",
    "    model.add(Dropout(0.25))\n",
    "    model.add(Dense(1, activation=None))\n",
    "    \n",
    "    # compile model\n",
    "    model.compile(optimizer='adam', loss='mean_squared_error', metrics = ['accuracy'])\n",
    "    return model"
   ]
  },
  {
   "cell_type": "code",
   "execution_count": 65,
   "id": "f861f7e6",
   "metadata": {},
   "outputs": [],
   "source": [
    "n_cols = X_train.shape[1] # number of predictors"
   ]
  },
  {
   "cell_type": "code",
   "execution_count": 66,
   "id": "a59236d4",
   "metadata": {},
   "outputs": [],
   "source": [
    "# build the model\n",
    "model = regression_model()"
   ]
  },
  {
   "cell_type": "code",
   "execution_count": 67,
   "id": "d9573743",
   "metadata": {
    "scrolled": true
   },
   "outputs": [
    {
     "name": "stdout",
     "output_type": "stream",
     "text": [
      "Epoch 1/50\n",
      "60/60 [==============================] - 2s 7ms/step - loss: 5.7973 - accuracy: 0.7235 - val_loss: 0.2461 - val_accuracy: 0.7545\n",
      "Epoch 2/50\n",
      "60/60 [==============================] - 0s 3ms/step - loss: 0.9208 - accuracy: 0.7561 - val_loss: 0.1955 - val_accuracy: 0.8000\n",
      "Epoch 3/50\n",
      "60/60 [==============================] - 0s 3ms/step - loss: 1.9179 - accuracy: 0.7624 - val_loss: 0.1728 - val_accuracy: 0.7972\n",
      "Epoch 4/50\n",
      "60/60 [==============================] - 0s 4ms/step - loss: 0.5116 - accuracy: 0.7665 - val_loss: 0.1725 - val_accuracy: 0.8000\n",
      "Epoch 5/50\n",
      "60/60 [==============================] - 0s 3ms/step - loss: 0.2883 - accuracy: 0.7779 - val_loss: 0.1686 - val_accuracy: 0.8000\n",
      "Epoch 6/50\n",
      "60/60 [==============================] - 0s 3ms/step - loss: 0.2389 - accuracy: 0.7823 - val_loss: 0.1660 - val_accuracy: 0.8000\n",
      "Epoch 7/50\n",
      "60/60 [==============================] - 0s 3ms/step - loss: 0.2142 - accuracy: 0.7867 - val_loss: 0.1643 - val_accuracy: 0.8000\n",
      "Epoch 8/50\n",
      "60/60 [==============================] - 0s 3ms/step - loss: 0.2020 - accuracy: 0.7864 - val_loss: 0.1630 - val_accuracy: 0.8000\n",
      "Epoch 9/50\n",
      "60/60 [==============================] - 0s 3ms/step - loss: 0.1981 - accuracy: 0.7874 - val_loss: 0.1623 - val_accuracy: 0.8000\n",
      "Epoch 10/50\n",
      "60/60 [==============================] - 0s 3ms/step - loss: 0.1807 - accuracy: 0.7905 - val_loss: 0.1617 - val_accuracy: 0.8000\n",
      "Epoch 11/50\n",
      "60/60 [==============================] - 0s 3ms/step - loss: 0.2628 - accuracy: 0.7911 - val_loss: 0.1614 - val_accuracy: 0.8000\n",
      "Epoch 12/50\n",
      "60/60 [==============================] - 0s 5ms/step - loss: 0.1741 - accuracy: 0.7956 - val_loss: 0.1607 - val_accuracy: 0.8000\n",
      "Epoch 13/50\n",
      "60/60 [==============================] - 0s 3ms/step - loss: 0.1727 - accuracy: 0.7972 - val_loss: 0.1605 - val_accuracy: 0.8000\n",
      "Epoch 14/50\n",
      "60/60 [==============================] - 0s 4ms/step - loss: 0.1654 - accuracy: 0.7987 - val_loss: 0.1604 - val_accuracy: 0.8000\n",
      "Epoch 15/50\n",
      "60/60 [==============================] - 0s 4ms/step - loss: 0.1641 - accuracy: 0.7987 - val_loss: 0.1603 - val_accuracy: 0.8000\n",
      "Epoch 16/50\n",
      "60/60 [==============================] - 0s 3ms/step - loss: 0.1626 - accuracy: 0.7991 - val_loss: 0.1603 - val_accuracy: 0.8000\n",
      "Epoch 17/50\n",
      "60/60 [==============================] - 0s 3ms/step - loss: 0.1629 - accuracy: 0.7984 - val_loss: 0.1602 - val_accuracy: 0.8000\n",
      "Epoch 18/50\n",
      "60/60 [==============================] - 0s 5ms/step - loss: 0.1630 - accuracy: 0.7984 - val_loss: 0.1602 - val_accuracy: 0.8000\n",
      "Epoch 19/50\n",
      "60/60 [==============================] - 0s 3ms/step - loss: 0.1618 - accuracy: 0.7994 - val_loss: 0.1601 - val_accuracy: 0.8000\n",
      "Epoch 20/50\n",
      "60/60 [==============================] - 0s 3ms/step - loss: 0.1618 - accuracy: 0.7984 - val_loss: 0.1601 - val_accuracy: 0.8000\n",
      "Epoch 21/50\n",
      "60/60 [==============================] - 0s 4ms/step - loss: 0.1616 - accuracy: 0.7991 - val_loss: 0.1601 - val_accuracy: 0.8000\n",
      "Epoch 22/50\n",
      "60/60 [==============================] - 0s 4ms/step - loss: 0.1612 - accuracy: 0.7994 - val_loss: 0.1601 - val_accuracy: 0.8000\n",
      "Epoch 23/50\n",
      "60/60 [==============================] - 0s 5ms/step - loss: 0.1611 - accuracy: 0.7994 - val_loss: 0.1601 - val_accuracy: 0.8000\n",
      "Epoch 24/50\n",
      "60/60 [==============================] - 0s 3ms/step - loss: 0.1610 - accuracy: 0.7994 - val_loss: 0.1601 - val_accuracy: 0.8000\n",
      "Epoch 25/50\n",
      "60/60 [==============================] - 0s 4ms/step - loss: 0.1609 - accuracy: 0.7997 - val_loss: 0.1600 - val_accuracy: 0.8000\n",
      "Epoch 26/50\n",
      "60/60 [==============================] - 0s 5ms/step - loss: 0.1608 - accuracy: 0.8000 - val_loss: 0.1600 - val_accuracy: 0.8000\n",
      "Epoch 27/50\n",
      "60/60 [==============================] - 0s 4ms/step - loss: 0.1607 - accuracy: 0.8000 - val_loss: 0.1600 - val_accuracy: 0.8000\n",
      "Epoch 28/50\n",
      "60/60 [==============================] - 0s 4ms/step - loss: 0.1606 - accuracy: 0.8000 - val_loss: 0.1600 - val_accuracy: 0.8000\n",
      "Epoch 29/50\n",
      "60/60 [==============================] - 0s 4ms/step - loss: 0.1606 - accuracy: 0.8000 - val_loss: 0.1600 - val_accuracy: 0.8000\n",
      "Epoch 30/50\n",
      "60/60 [==============================] - 0s 4ms/step - loss: 0.1605 - accuracy: 0.8000 - val_loss: 0.1600 - val_accuracy: 0.8000\n",
      "Epoch 31/50\n",
      "60/60 [==============================] - 0s 4ms/step - loss: 0.1604 - accuracy: 0.8000 - val_loss: 0.1600 - val_accuracy: 0.8000\n",
      "Epoch 32/50\n",
      "60/60 [==============================] - 0s 3ms/step - loss: 0.1604 - accuracy: 0.8000 - val_loss: 0.1600 - val_accuracy: 0.8000\n",
      "Epoch 33/50\n",
      "60/60 [==============================] - 0s 3ms/step - loss: 0.1604 - accuracy: 0.8000 - val_loss: 0.1600 - val_accuracy: 0.8000\n",
      "Epoch 34/50\n",
      "60/60 [==============================] - 0s 4ms/step - loss: 0.1604 - accuracy: 0.8000 - val_loss: 0.1600 - val_accuracy: 0.8000\n",
      "Epoch 35/50\n",
      "60/60 [==============================] - 0s 4ms/step - loss: 0.1604 - accuracy: 0.8000 - val_loss: 0.1600 - val_accuracy: 0.8000\n",
      "Epoch 36/50\n",
      "60/60 [==============================] - 0s 4ms/step - loss: 0.1603 - accuracy: 0.8000 - val_loss: 0.1600 - val_accuracy: 0.8000\n",
      "Epoch 37/50\n",
      "60/60 [==============================] - 0s 4ms/step - loss: 0.1603 - accuracy: 0.8000 - val_loss: 0.1600 - val_accuracy: 0.8000\n",
      "Epoch 38/50\n",
      "60/60 [==============================] - 0s 3ms/step - loss: 0.1603 - accuracy: 0.8000 - val_loss: 0.1600 - val_accuracy: 0.8000\n",
      "Epoch 39/50\n",
      "60/60 [==============================] - 0s 4ms/step - loss: 0.1603 - accuracy: 0.8000 - val_loss: 0.1600 - val_accuracy: 0.8000\n",
      "Epoch 40/50\n",
      "60/60 [==============================] - 0s 3ms/step - loss: 0.1603 - accuracy: 0.8000 - val_loss: 0.1600 - val_accuracy: 0.8000\n",
      "Epoch 41/50\n",
      "60/60 [==============================] - 0s 4ms/step - loss: 0.1602 - accuracy: 0.8000 - val_loss: 0.1600 - val_accuracy: 0.8000\n",
      "Epoch 42/50\n",
      "60/60 [==============================] - 0s 3ms/step - loss: 0.1602 - accuracy: 0.8000 - val_loss: 0.1600 - val_accuracy: 0.8000\n",
      "Epoch 43/50\n",
      "60/60 [==============================] - 0s 3ms/step - loss: 0.1602 - accuracy: 0.8000 - val_loss: 0.1600 - val_accuracy: 0.8000\n",
      "Epoch 44/50\n",
      "60/60 [==============================] - 0s 4ms/step - loss: 0.1602 - accuracy: 0.8000 - val_loss: 0.1600 - val_accuracy: 0.8000\n",
      "Epoch 45/50\n",
      "60/60 [==============================] - 0s 3ms/step - loss: 0.1602 - accuracy: 0.8000 - val_loss: 0.1600 - val_accuracy: 0.8000\n",
      "Epoch 46/50\n",
      "60/60 [==============================] - 0s 3ms/step - loss: 0.1602 - accuracy: 0.8000 - val_loss: 0.1600 - val_accuracy: 0.8000\n",
      "Epoch 47/50\n",
      "60/60 [==============================] - 0s 3ms/step - loss: 0.1601 - accuracy: 0.8000 - val_loss: 0.1600 - val_accuracy: 0.8000\n",
      "Epoch 48/50\n",
      "60/60 [==============================] - 0s 3ms/step - loss: 0.1601 - accuracy: 0.8000 - val_loss: 0.1600 - val_accuracy: 0.8000\n",
      "Epoch 49/50\n",
      "60/60 [==============================] - 0s 4ms/step - loss: 0.1602 - accuracy: 0.7997 - val_loss: 0.1600 - val_accuracy: 0.8000\n",
      "Epoch 50/50\n",
      "60/60 [==============================] - 0s 3ms/step - loss: 0.1601 - accuracy: 0.8000 - val_loss: 0.1600 - val_accuracy: 0.8000\n"
     ]
    }
   ],
   "source": [
    "# fit the model\n",
    "history = model.fit(X_train, y_train, validation_data=(X_test,y_test), epochs=50, verbose=1) # leave 30% of data for validation i.e to test on"
   ]
  },
  {
   "cell_type": "code",
   "execution_count": 68,
   "id": "2c17f041",
   "metadata": {},
   "outputs": [
    {
     "data": {
      "text/plain": [
       "Text(0.5, 1.0, 'Training and Validation accuracy')"
      ]
     },
     "execution_count": 68,
     "metadata": {},
     "output_type": "execute_result"
    },
    {
     "data": {
      "image/png": "[encoded data removed]",
      "text/plain": [
       "<Figure size 640x480 with 1 Axes>"
      ]
     },
     "metadata": {},
     "output_type": "display_data"
    },
    {
     "data": {
      "image/png": "[encoded data removed]",
      "text/plain": [
       "<Figure size 640x480 with 1 Axes>"
      ]
     },
     "metadata": {},
     "output_type": "display_data"
    }
   ],
   "source": [
    "import matplotlib.pyplot as plt\n",
    "\n",
    "plt.plot(history.history['loss'], label='Training')\n",
    "plt.plot(history.history['val_loss'], label='Validation')\n",
    "plt.legend()\n",
    "plt.title('Training and Validation Loss')\n",
    "plt.figure()\n",
    "\n",
    "plt.plot(history.history['accuracy'],label='Training')\n",
    "plt.plot(history.history['val_accuracy'],label='Validation')\n",
    "plt.legend()\n",
    "plt.title('Training and Validation accuracy')"
   ]
  },
  {
   "cell_type": "code",
   "execution_count": 69,
   "id": "36ab83f8",
   "metadata": {},
   "outputs": [
    {
     "name": "stdout",
     "output_type": "stream",
     "text": [
      "7/7 [==============================] - 0s 3ms/step\n"
     ]
    }
   ],
   "source": [
    "pred = model.predict(X_test)\n",
    "pred = to_categorical(pred,5)"
   ]
  },
  {
   "cell_type": "code",
   "execution_count": 70,
   "id": "b61787fa",
   "metadata": {},
   "outputs": [
    {
     "name": "stdout",
     "output_type": "stream",
     "text": [
      "Test Accuracy: 0.11848341232227488\n",
      "              precision    recall  f1-score   support\n",
      "\n",
      "           1       0.12      1.00      0.21        25\n",
      "           2       0.00      0.00      0.00        36\n",
      "           3       0.00      0.00      0.00        62\n",
      "           4       0.00      0.00      0.00        49\n",
      "           5       0.00      0.00      0.00        39\n",
      "\n",
      "   micro avg       0.12      0.12      0.12       211\n",
      "   macro avg       0.02      0.20      0.04       211\n",
      "weighted avg       0.01      0.12      0.03       211\n",
      " samples avg       0.12      0.12      0.12       211\n",
      "\n"
     ]
    },
    {
     "name": "stderr",
     "output_type": "stream",
     "text": [
      "C:\\Users\\abize\\opencv\\lib\\site-packages\\sklearn\\metrics\\_classification.py:1318: UndefinedMetricWarning: Precision and F-score are ill-defined and being set to 0.0 in labels with no predicted samples. Use `zero_division` parameter to control this behavior.\n",
      "  _warn_prf(average, modifier, msg_start, len(result))\n"
     ]
    }
   ],
   "source": [
    "from sklearn.metrics import classification_report,accuracy_score\n",
    "print('Test Accuracy: {}'.format(accuracy_score(pred, y_test)))\n",
    "print(classification_report(y_test, pred, target_names=labels))"
   ]
  },
  {
   "cell_type": "markdown",
   "id": "2b2a4927",
   "metadata": {},
   "source": [
    "Let's compare the results to that from a random forest"
   ]
  },
  {
   "cell_type": "code",
   "execution_count": 71,
   "id": "6ef9f32f",
   "metadata": {},
   "outputs": [],
   "source": [
    "# Import the model we are using\n",
    "from sklearn.ensemble import RandomForestRegressor\n",
    "# Instantiate model with 1000 decision trees\n",
    "rf = RandomForestRegressor(n_estimators = 1000, random_state = 42)\n",
    "# Train the model on training data\n",
    "rf.fit(X_train, y_train);"
   ]
  },
  {
   "cell_type": "code",
   "execution_count": 76,
   "id": "4dc8da1b",
   "metadata": {},
   "outputs": [
    {
     "name": "stdout",
     "output_type": "stream",
     "text": [
      "Mean Absolute Error: 0.11 degrees.\n"
     ]
    }
   ],
   "source": [
    "# Use the forest's predict method on the test data\n",
    "predictions = rf.predict(X_test)\n",
    "# Calculate the absolute errors\n",
    "errors = abs(predictions - y_test)\n",
    "# Print out the mean absolute error (mae)\n",
    "print('Mean Absolute Error:', round(np.mean(errors), 2), 'degrees.')"
   ]
  },
  {
   "cell_type": "code",
   "execution_count": 77,
   "id": "9b91c36a",
   "metadata": {},
   "outputs": [
    {
     "name": "stdout",
     "output_type": "stream",
     "text": [
      "Accuracy: nan %.\n"
     ]
    },
    {
     "name": "stderr",
     "output_type": "stream",
     "text": [
      "C:\\Users\\abize\\opencv\\lib\\site-packages\\ipykernel_launcher.py:2: RuntimeWarning: divide by zero encountered in true_divide\n",
      "  \n",
      "C:\\Users\\abize\\opencv\\lib\\site-packages\\ipykernel_launcher.py:2: RuntimeWarning: invalid value encountered in true_divide\n",
      "  \n"
     ]
    }
   ],
   "source": [
    "# Calculate mean absolute percentage error (MAPE)\n",
    "mape = 100 * (errors / y_test)\n",
    "# Calculate and display accuracy\n",
    "accuracy = 100 - np.mean(mape)\n",
    "print('Accuracy:', round(accuracy, 2), '%.')"
   ]
  },
  {
   "cell_type": "code",
   "execution_count": null,
   "id": "be110d25",
   "metadata": {},
   "outputs": [],
   "source": []
  }
 ],
 "metadata": {
  "kernelspec": {
   "display_name": "Python 3 (ipykernel)",
   "language": "python",
   "name": "python3"
  },
  "language_info": {
   "codemirror_mode": {
    "name": "ipython",
    "version": 3
   },
   "file_extension": ".py",
   "mimetype": "text/x-python",
   "name": "python",
   "nbconvert_exporter": "python",
   "pygments_lexer": "ipython3",
   "version": "3.7.4"
  }
 },
 "nbformat": 4,
 "nbformat_minor": 5
}
